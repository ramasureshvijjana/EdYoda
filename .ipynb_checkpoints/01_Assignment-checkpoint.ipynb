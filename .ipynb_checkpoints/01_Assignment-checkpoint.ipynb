{
 "cells": [
  {
   "cell_type": "markdown",
   "id": "bba62b0a",
   "metadata": {},
   "source": [
    "### Q1) Write a Python program to get the Fibonacci series between 0 to 50"
   ]
  },
  {
   "cell_type": "code",
   "execution_count": 5,
   "id": "13f311e7",
   "metadata": {},
   "outputs": [
    {
     "name": "stdout",
     "output_type": "stream",
     "text": [
      "0\n",
      "1\n",
      "1\n",
      "2\n",
      "3\n",
      "5\n",
      "8\n",
      "13\n",
      "21\n"
     ]
    }
   ],
   "source": [
    "num_1, num_2 = 0, 1\n",
    "next_sum = 0\n",
    "max_num = 50\n",
    "\n",
    "while next_sum <= max_num:\n",
    "    print(num_1)\n",
    "    next_sum = num_1 + num_2\n",
    "    num_1 = num_2\n",
    "    num_2 = next_sum"
   ]
  },
  {
   "cell_type": "markdown",
   "id": "d6a1c170",
   "metadata": {},
   "source": [
    "### Q2) Write a Python program that accepts a word from the user and reverse it."
   ]
  },
  {
   "cell_type": "code",
   "execution_count": 8,
   "id": "dceacfe0",
   "metadata": {},
   "outputs": [
    {
     "name": "stdout",
     "output_type": "stream",
     "text": [
      "Please enter a word :Edyoda\n",
      "Reverse of the word is : adoydE\n"
     ]
    }
   ],
   "source": [
    "word = input('Please enter a word :')\n",
    "\n",
    "if word:\n",
    "    print('Reverse of the word is :', word[::-1])"
   ]
  },
  {
   "cell_type": "markdown",
   "id": "0e6078dd",
   "metadata": {},
   "source": [
    "### Q3) Write a Python program to count the number of even and odd numbers from a series of numbers."
   ]
  },
  {
   "cell_type": "code",
   "execution_count": null,
   "id": "f76e3453",
   "metadata": {},
   "outputs": [],
   "source": [
    "Your expected output is wrong sir please observe (1, 2, 3, 4, 5, 6, 7, 8, 9)  has only 4 even numbers (2,4,6,8) =4 and odd \n",
    "numbers  (1,3,5,7,9) = 5\n",
    "\n",
    "Sample numbers : numbers = (1, 2, 3, 4, 5, 6, 7, 8, 9) \n",
    "\n",
    "Expected Output :\n",
    "\n",
    "Number of even numbers : 5\n",
    "Number of odd numbers : 4"
   ]
  },
  {
   "cell_type": "code",
   "execution_count": 1,
   "id": "3a2c871b",
   "metadata": {},
   "outputs": [
    {
     "name": "stdout",
     "output_type": "stream",
     "text": [
      "Total even numbers are : 4\n",
      "Total odd numbers are : 5\n"
     ]
    }
   ],
   "source": [
    "numbers = (1, 2, 3, 4, 5, 6, 7, 8, 9)\n",
    "even = 0\n",
    "odd = 0\n",
    "for num in numbers:\n",
    "    if num % 2 == 0:\n",
    "        even += 1\n",
    "    else:\n",
    "        odd += 1\n",
    "        \n",
    "print('Total even numbers are :', even)\n",
    "print('Total odd numbers are :', odd)\n"
   ]
  }
 ],
 "metadata": {
  "kernelspec": {
   "display_name": "Python 3",
   "language": "python",
   "name": "python3"
  },
  "language_info": {
   "codemirror_mode": {
    "name": "ipython",
    "version": 3
   },
   "file_extension": ".py",
   "mimetype": "text/x-python",
   "name": "python",
   "nbconvert_exporter": "python",
   "pygments_lexer": "ipython3",
   "version": "3.8.3"
  }
 },
 "nbformat": 4,
 "nbformat_minor": 5
}
