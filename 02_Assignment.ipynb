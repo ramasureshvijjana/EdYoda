{
 "cells": [
  {
   "cell_type": "markdown",
   "id": "78fa3c33",
   "metadata": {},
   "source": [
    "### Q1) Write a Python program to get a list, sorted in increasing order by the last element in each tuple from a  given list of non-empty tuples"
   ]
  },
  {
   "cell_type": "code",
   "execution_count": null,
   "id": "38483110",
   "metadata": {},
   "outputs": [],
   "source": [
    "Sample List : [(2, 5), (1, 2), (4, 4), (2, 3), (2, 1)]\n",
    "\n",
    "Expected Result : [(2, 1), (1, 2), (2, 3), (4, 4), (2, 5)]"
   ]
  },
  {
   "cell_type": "markdown",
   "id": "8677e796",
   "metadata": {},
   "source": [
    "### Method -1"
   ]
  },
  {
   "cell_type": "code",
   "execution_count": 42,
   "id": "7e176c2d",
   "metadata": {},
   "outputs": [
    {
     "name": "stdout",
     "output_type": "stream",
     "text": [
      "[(2, 1), (1, 2), (2, 3), (4, 4), (2, 5)]\n"
     ]
    }
   ],
   "source": [
    "input_list = [(2, 5), (1, 2), (4, 4), (2, 3), (2, 1)]\n",
    "second, final = [], []\n",
    "\n",
    "for i in input_list:\n",
    "    second.append(i[-1])\n",
    "    \n",
    "second = sorted(set(second))\n",
    "\n",
    "for i in second:\n",
    "    for k in input_list:\n",
    "        if i == k[-1]:\n",
    "            final.append(k)\n",
    "            \n",
    "print(final)"
   ]
  },
  {
   "cell_type": "markdown",
   "id": "66c534bc",
   "metadata": {},
   "source": [
    "### Method -2"
   ]
  },
  {
   "cell_type": "code",
   "execution_count": 43,
   "id": "7d7e0b57",
   "metadata": {},
   "outputs": [
    {
     "data": {
      "text/plain": [
       "[(2, 1), (1, 2), (2, 3), (4, 4), (2, 5)]"
      ]
     },
     "execution_count": 43,
     "metadata": {},
     "output_type": "execute_result"
    }
   ],
   "source": [
    "input_list_1 = [(2, 5), (1, 2), (4, 4), (2, 3), (2, 1)]\n",
    "\n",
    "sorted(input_list_1, key= lambda x: x[-1])\n"
   ]
  },
  {
   "cell_type": "markdown",
   "id": "ccf620b8",
   "metadata": {},
   "source": [
    "### Q2) Write a Python program to print a dictionary whose keys should be the alphabet from a-z and the value should be corresponding ASCII values"
   ]
  },
  {
   "cell_type": "code",
   "execution_count": null,
   "id": "19cb90d6",
   "metadata": {},
   "outputs": [],
   "source": [
    "Sample Output : {'a': 97, 'b': 98, 'c': 99, 'd': 100, 'e': 101, 'f': 102, 'g': 103, 'h': 104, 'i': 105, 'j': 106, 'k': 107, \n",
    "                 'l': 108, 'm': 109, 'n': 110, 'o': 111, 'p': 112, 'q': 113, 'r': 114, 's': 115, 't': 116, 'u': 117, 'v': 118, \n",
    "                 'w': 119, 'x': 120, 'y': 121, 'z': 122}"
   ]
  },
  {
   "cell_type": "code",
   "execution_count": 50,
   "id": "36bab590",
   "metadata": {},
   "outputs": [
    {
     "name": "stdout",
     "output_type": "stream",
     "text": [
      "{'a': 97, 'b': 98, 'c': 99, 'd': 100, 'e': 101, 'f': 102, 'g': 103, 'h': 104, 'i': 105, 'j': 106, 'k': 107, 'l': 108, 'm': 109, 'n': 110, 'o': 111, 'p': 112, 'q': 113, 'r': 114, 's': 115, 't': 116, 'u': 117, 'v': 118, 'w': 119, 'x': 120, 'y': 121, 'z': 122}\n"
     ]
    }
   ],
   "source": [
    "dict_var ={}\n",
    "\n",
    "for i in range(ord('a'), ord('z')+1):\n",
    "    dict_var[chr(i)] = i\n",
    "print(dict_var)"
   ]
  }
 ],
 "metadata": {
  "kernelspec": {
   "display_name": "Python 3",
   "language": "python",
   "name": "python3"
  },
  "language_info": {
   "codemirror_mode": {
    "name": "ipython",
    "version": 3
   },
   "file_extension": ".py",
   "mimetype": "text/x-python",
   "name": "python",
   "nbconvert_exporter": "python",
   "pygments_lexer": "ipython3",
   "version": "3.8.3"
  }
 },
 "nbformat": 4,
 "nbformat_minor": 5
}
