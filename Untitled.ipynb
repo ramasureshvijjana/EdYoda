{
 "cells": [
  {
   "cell_type": "code",
   "execution_count": 5,
   "id": "5ffaf593",
   "metadata": {},
   "outputs": [
    {
     "name": "stdout",
     "output_type": "stream",
     "text": [
      "4\n",
      "5\n",
      "3\n",
      "6\n",
      "1\n",
      "2\n",
      "8\n",
      "9\n",
      "7\n",
      "[9, 1, 8, 2, 7, 3, 6, 4, 5]\n"
     ]
    }
   ],
   "source": [
    "def rearrangeNumbers(numbers):\n",
    "    final = []\n",
    "    numbers.sort()\n",
    "    fst, lst = 0, -1\n",
    "    for i in range(1, len(numbers)+1):\n",
    "        if i % 2 != 0:\n",
    "            final.append(numbers[lst])\n",
    "            lst -= 1\n",
    "        else:\n",
    "            final.append(numbers[fst])\n",
    "            fst += 1\n",
    "            \n",
    "    print(final)\n",
    "    \n",
    "    \n",
    "    \n",
    "if __name__ == '__main__':\n",
    "    numbers = []\n",
    "    for _ in range(1,10):\n",
    "        num = int(input())\n",
    "        numbers.append(num)\n",
    "    set_val = set(numbers) \n",
    "    if len(numbers) == len(set_val):\n",
    "        rearrangeNumbers(numbers)\n",
    "    else:\n",
    "        print('Invalid input')\n",
    "    "
   ]
  },
  {
   "cell_type": "code",
   "execution_count": null,
   "id": "3855b548",
   "metadata": {},
   "outputs": [],
   "source": []
  }
 ],
 "metadata": {
  "kernelspec": {
   "display_name": "Python 3",
   "language": "python",
   "name": "python3"
  },
  "language_info": {
   "codemirror_mode": {
    "name": "ipython",
    "version": 3
   },
   "file_extension": ".py",
   "mimetype": "text/x-python",
   "name": "python",
   "nbconvert_exporter": "python",
   "pygments_lexer": "ipython3",
   "version": "3.8.3"
  }
 },
 "nbformat": 4,
 "nbformat_minor": 5
}
